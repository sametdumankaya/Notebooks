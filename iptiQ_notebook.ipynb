{
 "cells": [
  {
   "cell_type": "markdown",
   "metadata": {},
   "source": [
    "## Dataset Introduction\n",
    "\n",
    "Cardiovascular diseases (CVDs) are the number 1 cause of death globally, taking an estimated 17.9 million lives each year, which accounts for 31% of all deaths worldwide. Four out of 5CVD deaths are due to heart attacks and strokes, and one-third of these deaths occur prematurely in people under 70 years of age. Heart failure is a common event caused by CVDs and this dataset contains 11 features that can be used to predict a possible heart disease.\n",
    "This dataset was created by combining different datasets already available independently but not combined before. In this dataset, 5 heart datasets are combined over 11 common features which makes it the largest heart disease dataset available so far for research purposes.\n",
    "\n",
    "### Feature information\n",
    "\n",
    "* Age: age of the patient [years]\n",
    "* Sex: sex of the patient [M: Male, F: Female]\n",
    "* ChestPainType: chest pain type [TA: Typical Angina, ATA: Atypical Angina, NAP: Non-Anginal Pain, ASY: Asymptomatic]\n",
    "* RestingBP: resting blood pressure [mm Hg]\n",
    "* Cholesterol: serum cholesterol [mm/dl]\n",
    "* FastingBS: fasting blood sugar [1: if FastingBS > 120 mg/dl, 0: otherwise]\n",
    "* RestingECG: resting electrocardiogram results [Normal: Normal, ST: having ST-T wave abnormality (T wave inversions and/or ST elevation or depression of > 0.05 mV), LVH: showing probable or definite left ventricular hypertrophy by Estes' criteria]\n",
    "* MaxHR: maximum heart rate achieved [Numeric value between 60 and 202]\n",
    "* ExerciseAngina: exercise-induced angina [Y: Yes, N: No]\n",
    "* Oldpeak: oldpeak = ST [Numeric value measured in depression]\n",
    "* ST_Slope: the slope of the peak exercise ST segment [Up: upsloping, Flat: flat, Down: downsloping]\n",
    "* HeartDisease: output class [1: heart disease, 0: Normal]\n",
    "\n",
    "\n",
    "### References\n",
    "* https://archive.ics.uci.edu/ml/machine-learning-databases/heart-disease/\n",
    "* https://www.kaggle.com/fedesoriano/heart-failure-prediction"
   ]
  },
  {
   "cell_type": "code",
   "execution_count": 1,
   "metadata": {
    "execution": {
     "iopub.execute_input": "2021-11-30T11:26:25.755662Z",
     "iopub.status.busy": "2021-11-30T11:26:25.755662Z",
     "iopub.status.idle": "2021-11-30T11:26:26.363288Z",
     "shell.execute_reply": "2021-11-30T11:26:26.363288Z",
     "shell.execute_reply.started": "2021-11-30T11:26:25.755662Z"
    }
   },
   "outputs": [],
   "source": [
    "import pandas as pd\n",
    "import numpy as np\n",
    "import matplotlib.pyplot as plt\n",
    "import matplotlib\n",
    "import seaborn as sns"
   ]
  },
  {
   "cell_type": "code",
   "execution_count": 2,
   "metadata": {
    "execution": {
     "iopub.execute_input": "2021-11-30T11:26:26.363288Z",
     "iopub.status.busy": "2021-11-30T11:26:26.363288Z",
     "iopub.status.idle": "2021-11-30T11:26:26.371998Z",
     "shell.execute_reply": "2021-11-30T11:26:26.371998Z",
     "shell.execute_reply.started": "2021-11-30T11:26:26.363288Z"
    }
   },
   "outputs": [],
   "source": [
    "pd.set_option('display.max_columns', None)\n",
    "matplotlib.rcParams['figure.figsize'] = (15, 5)"
   ]
  },
  {
   "cell_type": "code",
   "execution_count": 3,
   "metadata": {
    "execution": {
     "iopub.execute_input": "2021-11-30T11:26:26.372997Z",
     "iopub.status.busy": "2021-11-30T11:26:26.372997Z",
     "iopub.status.idle": "2021-11-30T11:26:26.391001Z",
     "shell.execute_reply": "2021-11-30T11:26:26.391001Z",
     "shell.execute_reply.started": "2021-11-30T11:26:26.372997Z"
    }
   },
   "outputs": [
    {
     "data": {
      "text/html": [
       "<div>\n",
       "<style scoped>\n",
       "    .dataframe tbody tr th:only-of-type {\n",
       "        vertical-align: middle;\n",
       "    }\n",
       "\n",
       "    .dataframe tbody tr th {\n",
       "        vertical-align: top;\n",
       "    }\n",
       "\n",
       "    .dataframe thead th {\n",
       "        text-align: right;\n",
       "    }\n",
       "</style>\n",
       "<table border=\"1\" class=\"dataframe\">\n",
       "  <thead>\n",
       "    <tr style=\"text-align: right;\">\n",
       "      <th></th>\n",
       "      <th>Age</th>\n",
       "      <th>Sex</th>\n",
       "      <th>ChestPainType</th>\n",
       "      <th>RestingBP</th>\n",
       "      <th>Cholesterol</th>\n",
       "      <th>FastingBS</th>\n",
       "      <th>RestingECG</th>\n",
       "      <th>MaxHR</th>\n",
       "      <th>ExerciseAngina</th>\n",
       "      <th>Oldpeak</th>\n",
       "      <th>ST_Slope</th>\n",
       "      <th>HeartDisease</th>\n",
       "    </tr>\n",
       "  </thead>\n",
       "  <tbody>\n",
       "    <tr>\n",
       "      <th>0</th>\n",
       "      <td>40</td>\n",
       "      <td>M</td>\n",
       "      <td>ATA</td>\n",
       "      <td>140</td>\n",
       "      <td>289</td>\n",
       "      <td>0</td>\n",
       "      <td>Normal</td>\n",
       "      <td>172</td>\n",
       "      <td>N</td>\n",
       "      <td>0.0</td>\n",
       "      <td>Up</td>\n",
       "      <td>0</td>\n",
       "    </tr>\n",
       "    <tr>\n",
       "      <th>1</th>\n",
       "      <td>49</td>\n",
       "      <td>F</td>\n",
       "      <td>NAP</td>\n",
       "      <td>160</td>\n",
       "      <td>180</td>\n",
       "      <td>0</td>\n",
       "      <td>Normal</td>\n",
       "      <td>156</td>\n",
       "      <td>N</td>\n",
       "      <td>1.0</td>\n",
       "      <td>Flat</td>\n",
       "      <td>1</td>\n",
       "    </tr>\n",
       "    <tr>\n",
       "      <th>2</th>\n",
       "      <td>37</td>\n",
       "      <td>M</td>\n",
       "      <td>ATA</td>\n",
       "      <td>130</td>\n",
       "      <td>283</td>\n",
       "      <td>0</td>\n",
       "      <td>ST</td>\n",
       "      <td>98</td>\n",
       "      <td>N</td>\n",
       "      <td>0.0</td>\n",
       "      <td>Up</td>\n",
       "      <td>0</td>\n",
       "    </tr>\n",
       "    <tr>\n",
       "      <th>3</th>\n",
       "      <td>48</td>\n",
       "      <td>F</td>\n",
       "      <td>ASY</td>\n",
       "      <td>138</td>\n",
       "      <td>214</td>\n",
       "      <td>0</td>\n",
       "      <td>Normal</td>\n",
       "      <td>108</td>\n",
       "      <td>Y</td>\n",
       "      <td>1.5</td>\n",
       "      <td>Flat</td>\n",
       "      <td>1</td>\n",
       "    </tr>\n",
       "    <tr>\n",
       "      <th>4</th>\n",
       "      <td>54</td>\n",
       "      <td>M</td>\n",
       "      <td>NAP</td>\n",
       "      <td>150</td>\n",
       "      <td>195</td>\n",
       "      <td>0</td>\n",
       "      <td>Normal</td>\n",
       "      <td>122</td>\n",
       "      <td>N</td>\n",
       "      <td>0.0</td>\n",
       "      <td>Up</td>\n",
       "      <td>0</td>\n",
       "    </tr>\n",
       "  </tbody>\n",
       "</table>\n",
       "</div>"
      ],
      "text/plain": [
       "   Age Sex ChestPainType  RestingBP  Cholesterol  FastingBS RestingECG  MaxHR  \\\n",
       "0   40   M           ATA        140          289          0     Normal    172   \n",
       "1   49   F           NAP        160          180          0     Normal    156   \n",
       "2   37   M           ATA        130          283          0         ST     98   \n",
       "3   48   F           ASY        138          214          0     Normal    108   \n",
       "4   54   M           NAP        150          195          0     Normal    122   \n",
       "\n",
       "  ExerciseAngina  Oldpeak ST_Slope  HeartDisease  \n",
       "0              N      0.0       Up             0  \n",
       "1              N      1.0     Flat             1  \n",
       "2              N      0.0       Up             0  \n",
       "3              Y      1.5     Flat             1  \n",
       "4              N      0.0       Up             0  "
      ]
     },
     "execution_count": 3,
     "metadata": {},
     "output_type": "execute_result"
    }
   ],
   "source": [
    "df = pd.read_csv(\"heart.csv\")\n",
    "df.head()"
   ]
  },
  {
   "cell_type": "code",
   "execution_count": 4,
   "metadata": {
    "execution": {
     "iopub.execute_input": "2021-11-30T11:26:26.392001Z",
     "iopub.status.busy": "2021-11-30T11:26:26.392001Z",
     "iopub.status.idle": "2021-11-30T11:26:26.395001Z",
     "shell.execute_reply": "2021-11-30T11:26:26.395001Z",
     "shell.execute_reply.started": "2021-11-30T11:26:26.392001Z"
    }
   },
   "outputs": [
    {
     "data": {
      "text/plain": [
       "(918, 12)"
      ]
     },
     "execution_count": 4,
     "metadata": {},
     "output_type": "execute_result"
    }
   ],
   "source": [
    "df.shape"
   ]
  },
  {
   "cell_type": "code",
   "execution_count": 5,
   "metadata": {
    "execution": {
     "iopub.execute_input": "2021-11-30T11:26:26.396001Z",
     "iopub.status.busy": "2021-11-30T11:26:26.395001Z",
     "iopub.status.idle": "2021-11-30T11:26:26.401003Z",
     "shell.execute_reply": "2021-11-30T11:26:26.401003Z",
     "shell.execute_reply.started": "2021-11-30T11:26:26.396001Z"
    }
   },
   "outputs": [
    {
     "data": {
      "text/plain": [
       "Age               0\n",
       "Sex               0\n",
       "ChestPainType     0\n",
       "RestingBP         0\n",
       "Cholesterol       0\n",
       "FastingBS         0\n",
       "RestingECG        0\n",
       "MaxHR             0\n",
       "ExerciseAngina    0\n",
       "Oldpeak           0\n",
       "ST_Slope          0\n",
       "HeartDisease      0\n",
       "dtype: int64"
      ]
     },
     "execution_count": 5,
     "metadata": {},
     "output_type": "execute_result"
    }
   ],
   "source": [
    "df.isna().sum()"
   ]
  },
  {
   "cell_type": "code",
   "execution_count": 6,
   "metadata": {
    "execution": {
     "iopub.execute_input": "2021-11-30T11:26:26.402003Z",
     "iopub.status.busy": "2021-11-30T11:26:26.402003Z",
     "iopub.status.idle": "2021-11-30T11:26:26.436011Z",
     "shell.execute_reply": "2021-11-30T11:26:26.436011Z",
     "shell.execute_reply.started": "2021-11-30T11:26:26.402003Z"
    }
   },
   "outputs": [
    {
     "data": {
      "text/html": [
       "<div>\n",
       "<style scoped>\n",
       "    .dataframe tbody tr th:only-of-type {\n",
       "        vertical-align: middle;\n",
       "    }\n",
       "\n",
       "    .dataframe tbody tr th {\n",
       "        vertical-align: top;\n",
       "    }\n",
       "\n",
       "    .dataframe thead th {\n",
       "        text-align: right;\n",
       "    }\n",
       "</style>\n",
       "<table border=\"1\" class=\"dataframe\">\n",
       "  <thead>\n",
       "    <tr style=\"text-align: right;\">\n",
       "      <th></th>\n",
       "      <th>Age</th>\n",
       "      <th>Sex</th>\n",
       "      <th>ChestPainType</th>\n",
       "      <th>RestingBP</th>\n",
       "      <th>Cholesterol</th>\n",
       "      <th>FastingBS</th>\n",
       "      <th>RestingECG</th>\n",
       "      <th>MaxHR</th>\n",
       "      <th>ExerciseAngina</th>\n",
       "      <th>Oldpeak</th>\n",
       "      <th>ST_Slope</th>\n",
       "      <th>HeartDisease</th>\n",
       "    </tr>\n",
       "  </thead>\n",
       "  <tbody>\n",
       "    <tr>\n",
       "      <th>count</th>\n",
       "      <td>918.000000</td>\n",
       "      <td>918</td>\n",
       "      <td>918</td>\n",
       "      <td>918.000000</td>\n",
       "      <td>918.000000</td>\n",
       "      <td>918.000000</td>\n",
       "      <td>918</td>\n",
       "      <td>918.000000</td>\n",
       "      <td>918</td>\n",
       "      <td>918.000000</td>\n",
       "      <td>918</td>\n",
       "      <td>918.000000</td>\n",
       "    </tr>\n",
       "    <tr>\n",
       "      <th>unique</th>\n",
       "      <td>NaN</td>\n",
       "      <td>2</td>\n",
       "      <td>4</td>\n",
       "      <td>NaN</td>\n",
       "      <td>NaN</td>\n",
       "      <td>NaN</td>\n",
       "      <td>3</td>\n",
       "      <td>NaN</td>\n",
       "      <td>2</td>\n",
       "      <td>NaN</td>\n",
       "      <td>3</td>\n",
       "      <td>NaN</td>\n",
       "    </tr>\n",
       "    <tr>\n",
       "      <th>top</th>\n",
       "      <td>NaN</td>\n",
       "      <td>M</td>\n",
       "      <td>ASY</td>\n",
       "      <td>NaN</td>\n",
       "      <td>NaN</td>\n",
       "      <td>NaN</td>\n",
       "      <td>Normal</td>\n",
       "      <td>NaN</td>\n",
       "      <td>N</td>\n",
       "      <td>NaN</td>\n",
       "      <td>Flat</td>\n",
       "      <td>NaN</td>\n",
       "    </tr>\n",
       "    <tr>\n",
       "      <th>freq</th>\n",
       "      <td>NaN</td>\n",
       "      <td>725</td>\n",
       "      <td>496</td>\n",
       "      <td>NaN</td>\n",
       "      <td>NaN</td>\n",
       "      <td>NaN</td>\n",
       "      <td>552</td>\n",
       "      <td>NaN</td>\n",
       "      <td>547</td>\n",
       "      <td>NaN</td>\n",
       "      <td>460</td>\n",
       "      <td>NaN</td>\n",
       "    </tr>\n",
       "    <tr>\n",
       "      <th>mean</th>\n",
       "      <td>53.510893</td>\n",
       "      <td>NaN</td>\n",
       "      <td>NaN</td>\n",
       "      <td>132.396514</td>\n",
       "      <td>198.799564</td>\n",
       "      <td>0.233115</td>\n",
       "      <td>NaN</td>\n",
       "      <td>136.809368</td>\n",
       "      <td>NaN</td>\n",
       "      <td>0.887364</td>\n",
       "      <td>NaN</td>\n",
       "      <td>0.553377</td>\n",
       "    </tr>\n",
       "    <tr>\n",
       "      <th>std</th>\n",
       "      <td>9.432617</td>\n",
       "      <td>NaN</td>\n",
       "      <td>NaN</td>\n",
       "      <td>18.514154</td>\n",
       "      <td>109.384145</td>\n",
       "      <td>0.423046</td>\n",
       "      <td>NaN</td>\n",
       "      <td>25.460334</td>\n",
       "      <td>NaN</td>\n",
       "      <td>1.066570</td>\n",
       "      <td>NaN</td>\n",
       "      <td>0.497414</td>\n",
       "    </tr>\n",
       "    <tr>\n",
       "      <th>min</th>\n",
       "      <td>28.000000</td>\n",
       "      <td>NaN</td>\n",
       "      <td>NaN</td>\n",
       "      <td>0.000000</td>\n",
       "      <td>0.000000</td>\n",
       "      <td>0.000000</td>\n",
       "      <td>NaN</td>\n",
       "      <td>60.000000</td>\n",
       "      <td>NaN</td>\n",
       "      <td>-2.600000</td>\n",
       "      <td>NaN</td>\n",
       "      <td>0.000000</td>\n",
       "    </tr>\n",
       "    <tr>\n",
       "      <th>25%</th>\n",
       "      <td>47.000000</td>\n",
       "      <td>NaN</td>\n",
       "      <td>NaN</td>\n",
       "      <td>120.000000</td>\n",
       "      <td>173.250000</td>\n",
       "      <td>0.000000</td>\n",
       "      <td>NaN</td>\n",
       "      <td>120.000000</td>\n",
       "      <td>NaN</td>\n",
       "      <td>0.000000</td>\n",
       "      <td>NaN</td>\n",
       "      <td>0.000000</td>\n",
       "    </tr>\n",
       "    <tr>\n",
       "      <th>50%</th>\n",
       "      <td>54.000000</td>\n",
       "      <td>NaN</td>\n",
       "      <td>NaN</td>\n",
       "      <td>130.000000</td>\n",
       "      <td>223.000000</td>\n",
       "      <td>0.000000</td>\n",
       "      <td>NaN</td>\n",
       "      <td>138.000000</td>\n",
       "      <td>NaN</td>\n",
       "      <td>0.600000</td>\n",
       "      <td>NaN</td>\n",
       "      <td>1.000000</td>\n",
       "    </tr>\n",
       "    <tr>\n",
       "      <th>75%</th>\n",
       "      <td>60.000000</td>\n",
       "      <td>NaN</td>\n",
       "      <td>NaN</td>\n",
       "      <td>140.000000</td>\n",
       "      <td>267.000000</td>\n",
       "      <td>0.000000</td>\n",
       "      <td>NaN</td>\n",
       "      <td>156.000000</td>\n",
       "      <td>NaN</td>\n",
       "      <td>1.500000</td>\n",
       "      <td>NaN</td>\n",
       "      <td>1.000000</td>\n",
       "    </tr>\n",
       "    <tr>\n",
       "      <th>max</th>\n",
       "      <td>77.000000</td>\n",
       "      <td>NaN</td>\n",
       "      <td>NaN</td>\n",
       "      <td>200.000000</td>\n",
       "      <td>603.000000</td>\n",
       "      <td>1.000000</td>\n",
       "      <td>NaN</td>\n",
       "      <td>202.000000</td>\n",
       "      <td>NaN</td>\n",
       "      <td>6.200000</td>\n",
       "      <td>NaN</td>\n",
       "      <td>1.000000</td>\n",
       "    </tr>\n",
       "  </tbody>\n",
       "</table>\n",
       "</div>"
      ],
      "text/plain": [
       "               Age  Sex ChestPainType   RestingBP  Cholesterol   FastingBS  \\\n",
       "count   918.000000  918           918  918.000000   918.000000  918.000000   \n",
       "unique         NaN    2             4         NaN          NaN         NaN   \n",
       "top            NaN    M           ASY         NaN          NaN         NaN   \n",
       "freq           NaN  725           496         NaN          NaN         NaN   \n",
       "mean     53.510893  NaN           NaN  132.396514   198.799564    0.233115   \n",
       "std       9.432617  NaN           NaN   18.514154   109.384145    0.423046   \n",
       "min      28.000000  NaN           NaN    0.000000     0.000000    0.000000   \n",
       "25%      47.000000  NaN           NaN  120.000000   173.250000    0.000000   \n",
       "50%      54.000000  NaN           NaN  130.000000   223.000000    0.000000   \n",
       "75%      60.000000  NaN           NaN  140.000000   267.000000    0.000000   \n",
       "max      77.000000  NaN           NaN  200.000000   603.000000    1.000000   \n",
       "\n",
       "       RestingECG       MaxHR ExerciseAngina     Oldpeak ST_Slope  \\\n",
       "count         918  918.000000            918  918.000000      918   \n",
       "unique          3         NaN              2         NaN        3   \n",
       "top        Normal         NaN              N         NaN     Flat   \n",
       "freq          552         NaN            547         NaN      460   \n",
       "mean          NaN  136.809368            NaN    0.887364      NaN   \n",
       "std           NaN   25.460334            NaN    1.066570      NaN   \n",
       "min           NaN   60.000000            NaN   -2.600000      NaN   \n",
       "25%           NaN  120.000000            NaN    0.000000      NaN   \n",
       "50%           NaN  138.000000            NaN    0.600000      NaN   \n",
       "75%           NaN  156.000000            NaN    1.500000      NaN   \n",
       "max           NaN  202.000000            NaN    6.200000      NaN   \n",
       "\n",
       "        HeartDisease  \n",
       "count     918.000000  \n",
       "unique           NaN  \n",
       "top              NaN  \n",
       "freq             NaN  \n",
       "mean        0.553377  \n",
       "std         0.497414  \n",
       "min         0.000000  \n",
       "25%         0.000000  \n",
       "50%         1.000000  \n",
       "75%         1.000000  \n",
       "max         1.000000  "
      ]
     },
     "execution_count": 6,
     "metadata": {},
     "output_type": "execute_result"
    }
   ],
   "source": [
    "df.describe(include=\"all\")"
   ]
  },
  {
   "cell_type": "code",
   "execution_count": 7,
   "metadata": {
    "execution": {
     "iopub.execute_input": "2021-11-30T11:26:26.437012Z",
     "iopub.status.busy": "2021-11-30T11:26:26.437012Z",
     "iopub.status.idle": "2021-11-30T11:26:26.441012Z",
     "shell.execute_reply": "2021-11-30T11:26:26.441012Z",
     "shell.execute_reply.started": "2021-11-30T11:26:26.437012Z"
    }
   },
   "outputs": [
    {
     "data": {
      "text/plain": [
       "1    0.553377\n",
       "0    0.446623\n",
       "Name: HeartDisease, dtype: float64"
      ]
     },
     "execution_count": 7,
     "metadata": {},
     "output_type": "execute_result"
    }
   ],
   "source": [
    "df[\"HeartDisease\"].value_counts(normalize=True)"
   ]
  },
  {
   "cell_type": "code",
   "execution_count": 8,
   "metadata": {
    "execution": {
     "iopub.execute_input": "2021-11-30T11:26:26.442012Z",
     "iopub.status.busy": "2021-11-30T11:26:26.442012Z",
     "iopub.status.idle": "2021-11-30T11:26:26.641034Z",
     "shell.execute_reply": "2021-11-30T11:26:26.641034Z",
     "shell.execute_reply.started": "2021-11-30T11:26:26.442012Z"
    }
   },
   "outputs": [
    {
     "data": {
      "text/plain": [
       "<AxesSubplot:xlabel='Age', ylabel='Count'>"
      ]
     },
     "execution_count": 8,
     "metadata": {},
     "output_type": "execute_result"
    },
    {
     "data": {
      "image/png": "[encoded data removed]",
      "text/plain": [
       "<Figure size 1080x360 with 1 Axes>"
      ]
     },
     "metadata": {
      "needs_background": "light"
     },
     "output_type": "display_data"
    }
   ],
   "source": [
    "sns.histplot(data=df, x=\"Age\", hue=\"HeartDisease\")"
   ]
  },
  {
   "cell_type": "code",
   "execution_count": 9,
   "metadata": {
    "execution": {
     "iopub.execute_input": "2021-11-30T11:26:26.642770Z",
     "iopub.status.busy": "2021-11-30T11:26:26.642770Z",
     "iopub.status.idle": "2021-11-30T11:26:26.729572Z",
     "shell.execute_reply": "2021-11-30T11:26:26.729572Z",
     "shell.execute_reply.started": "2021-11-30T11:26:26.642770Z"
    }
   },
   "outputs": [
    {
     "data": {
      "text/plain": [
       "<AxesSubplot:xlabel='Sex', ylabel='count'>"
      ]
     },
     "execution_count": 9,
     "metadata": {},
     "output_type": "execute_result"
    },
    {
     "data": {
      "image/png": "[encoded data removed]",
      "text/plain": [
       "<Figure size 1080x360 with 1 Axes>"
      ]
     },
     "metadata": {
      "needs_background": "light"
     },
     "output_type": "display_data"
    }
   ],
   "source": [
    "sns.countplot(x=\"Sex\", hue=\"HeartDisease\", data=df)"
   ]
  },
  {
   "cell_type": "code",
   "execution_count": 10,
   "metadata": {
    "execution": {
     "iopub.execute_input": "2021-11-30T11:26:26.729572Z",
     "iopub.status.busy": "2021-11-30T11:26:26.729572Z",
     "iopub.status.idle": "2021-11-30T11:26:26.851350Z",
     "shell.execute_reply": "2021-11-30T11:26:26.851101Z",
     "shell.execute_reply.started": "2021-11-30T11:26:26.729572Z"
    }
   },
   "outputs": [
    {
     "data": {
      "text/plain": [
       "<AxesSubplot:xlabel='ChestPainType', ylabel='count'>"
      ]
     },
     "execution_count": 10,
     "metadata": {},
     "output_type": "execute_result"
    },
    {
     "data": {
      "image/png": "[encoded data removed]",
      "text/plain": [
       "<Figure size 1080x360 with 1 Axes>"
      ]
     },
     "metadata": {
      "needs_background": "light"
     },
     "output_type": "display_data"
    }
   ],
   "source": [
    "sns.countplot(x=\"ChestPainType\", hue=\"HeartDisease\", data=df)"
   ]
  },
  {
   "cell_type": "code",
   "execution_count": 11,
   "metadata": {
    "execution": {
     "iopub.execute_input": "2021-11-30T11:26:26.852348Z",
     "iopub.status.busy": "2021-11-30T11:26:26.852348Z",
     "iopub.status.idle": "2021-11-30T11:26:27.135814Z",
     "shell.execute_reply": "2021-11-30T11:26:27.135814Z",
     "shell.execute_reply.started": "2021-11-30T11:26:26.852348Z"
    }
   },
   "outputs": [
    {
     "data": {
      "text/plain": [
       "<AxesSubplot:xlabel='RestingBP', ylabel='Count'>"
      ]
     },
     "execution_count": 11,
     "metadata": {},
     "output_type": "execute_result"
    },
    {
     "data": {
      "image/png": "[encoded data removed]",
      "text/plain": [
       "<Figure size 1080x360 with 1 Axes>"
      ]
     },
     "metadata": {
      "needs_background": "light"
     },
     "output_type": "display_data"
    }
   ],
   "source": [
    "sns.histplot(data=df, x=\"RestingBP\", hue=\"HeartDisease\")"
   ]
  },
  {
   "cell_type": "code",
   "execution_count": 12,
   "metadata": {
    "execution": {
     "iopub.execute_input": "2021-11-30T11:26:27.135814Z",
     "iopub.status.busy": "2021-11-30T11:26:27.135814Z",
     "iopub.status.idle": "2021-11-30T11:26:27.389293Z",
     "shell.execute_reply": "2021-11-30T11:26:27.389293Z",
     "shell.execute_reply.started": "2021-11-30T11:26:27.135814Z"
    }
   },
   "outputs": [
    {
     "data": {
      "text/plain": [
       "<AxesSubplot:xlabel='Cholesterol', ylabel='Count'>"
      ]
     },
     "execution_count": 12,
     "metadata": {},
     "output_type": "execute_result"
    },
    {
     "data": {
      "image/png": "[encoded data removed]",
      "text/plain": [
       "<Figure size 1080x360 with 1 Axes>"
      ]
     },
     "metadata": {
      "needs_background": "light"
     },
     "output_type": "display_data"
    }
   ],
   "source": [
    "sns.histplot(data=df, x=\"Cholesterol\", hue=\"HeartDisease\")"
   ]
  },
  {
   "cell_type": "code",
   "execution_count": 13,
   "metadata": {
    "execution": {
     "iopub.execute_input": "2021-11-30T11:26:27.389293Z",
     "iopub.status.busy": "2021-11-30T11:26:27.389293Z",
     "iopub.status.idle": "2021-11-30T11:26:27.486749Z",
     "shell.execute_reply": "2021-11-30T11:26:27.486749Z",
     "shell.execute_reply.started": "2021-11-30T11:26:27.389293Z"
    }
   },
   "outputs": [
    {
     "data": {
      "text/plain": [
       "<AxesSubplot:xlabel='FastingBS', ylabel='count'>"
      ]
     },
     "execution_count": 13,
     "metadata": {},
     "output_type": "execute_result"
    },
    {
     "data": {
      "image/png": "[encoded data removed]",
      "text/plain": [
       "<Figure size 1080x360 with 1 Axes>"
      ]
     },
     "metadata": {
      "needs_background": "light"
     },
     "output_type": "display_data"
    }
   ],
   "source": [
    "sns.countplot(x=\"FastingBS\", hue=\"HeartDisease\", data=df)"
   ]
  },
  {
   "cell_type": "code",
   "execution_count": 14,
   "metadata": {
    "execution": {
     "iopub.execute_input": "2021-11-30T11:26:27.487750Z",
     "iopub.status.busy": "2021-11-30T11:26:27.487750Z",
     "iopub.status.idle": "2021-11-30T11:26:27.589773Z",
     "shell.execute_reply": "2021-11-30T11:26:27.589773Z",
     "shell.execute_reply.started": "2021-11-30T11:26:27.487750Z"
    }
   },
   "outputs": [
    {
     "data": {
      "text/plain": [
       "<AxesSubplot:xlabel='RestingECG', ylabel='count'>"
      ]
     },
     "execution_count": 14,
     "metadata": {},
     "output_type": "execute_result"
    },
    {
     "data": {
      "image/png": "[encoded data removed]",
      "text/plain": [
       "<Figure size 1080x360 with 1 Axes>"
      ]
     },
     "metadata": {
      "needs_background": "light"
     },
     "output_type": "display_data"
    }
   ],
   "source": [
    "sns.countplot(x=\"RestingECG\", hue=\"HeartDisease\", data=df)"
   ]
  },
  {
   "cell_type": "code",
   "execution_count": 15,
   "metadata": {
    "execution": {
     "iopub.execute_input": "2021-11-30T11:26:27.590772Z",
     "iopub.status.busy": "2021-11-30T11:26:27.590772Z",
     "iopub.status.idle": "2021-11-30T11:26:27.781815Z",
     "shell.execute_reply": "2021-11-30T11:26:27.781815Z",
     "shell.execute_reply.started": "2021-11-30T11:26:27.590772Z"
    }
   },
   "outputs": [
    {
     "data": {
      "text/plain": [
       "<AxesSubplot:xlabel='MaxHR', ylabel='Count'>"
      ]
     },
     "execution_count": 15,
     "metadata": {},
     "output_type": "execute_result"
    },
    {
     "data": {
      "image/png": "[encoded data removed]",
      "text/plain": [
       "<Figure size 1080x360 with 1 Axes>"
      ]
     },
     "metadata": {
      "needs_background": "light"
     },
     "output_type": "display_data"
    }
   ],
   "source": [
    "sns.histplot(data=df, x=\"MaxHR\", hue=\"HeartDisease\")"
   ]
  },
  {
   "cell_type": "code",
   "execution_count": 16,
   "metadata": {
    "execution": {
     "iopub.execute_input": "2021-11-30T11:26:27.782817Z",
     "iopub.status.busy": "2021-11-30T11:26:27.782817Z",
     "iopub.status.idle": "2021-11-30T11:26:27.882839Z",
     "shell.execute_reply": "2021-11-30T11:26:27.882839Z",
     "shell.execute_reply.started": "2021-11-30T11:26:27.782817Z"
    }
   },
   "outputs": [
    {
     "data": {
      "text/plain": [
       "<AxesSubplot:xlabel='ExerciseAngina', ylabel='count'>"
      ]
     },
     "execution_count": 16,
     "metadata": {},
     "output_type": "execute_result"
    },
    {
     "data": {
      "image/png": "[encoded data removed]",
      "text/plain": [
       "<Figure size 1080x360 with 1 Axes>"
      ]
     },
     "metadata": {
      "needs_background": "light"
     },
     "output_type": "display_data"
    }
   ],
   "source": [
    "sns.countplot(x=\"ExerciseAngina\", hue=\"HeartDisease\", data=df)"
   ]
  },
  {
   "cell_type": "code",
   "execution_count": 17,
   "metadata": {
    "execution": {
     "iopub.execute_input": "2021-11-30T11:26:27.883839Z",
     "iopub.status.busy": "2021-11-30T11:26:27.883839Z",
     "iopub.status.idle": "2021-11-30T11:26:28.081883Z",
     "shell.execute_reply": "2021-11-30T11:26:28.081883Z",
     "shell.execute_reply.started": "2021-11-30T11:26:27.883839Z"
    }
   },
   "outputs": [
    {
     "data": {
      "text/plain": [
       "<AxesSubplot:xlabel='Oldpeak', ylabel='Count'>"
      ]
     },
     "execution_count": 17,
     "metadata": {},
     "output_type": "execute_result"
    },
    {
     "data": {
      "image/png": "[encoded data removed]",
      "text/plain": [
       "<Figure size 1080x360 with 1 Axes>"
      ]
     },
     "metadata": {
      "needs_background": "light"
     },
     "output_type": "display_data"
    }
   ],
   "source": [
    "sns.histplot(data=df, x=\"Oldpeak\", hue=\"HeartDisease\")"
   ]
  },
  {
   "cell_type": "code",
   "execution_count": 18,
   "metadata": {
    "execution": {
     "iopub.execute_input": "2021-11-30T11:26:28.082883Z",
     "iopub.status.busy": "2021-11-30T11:26:28.082883Z",
     "iopub.status.idle": "2021-11-30T11:26:28.188908Z",
     "shell.execute_reply": "2021-11-30T11:26:28.188908Z",
     "shell.execute_reply.started": "2021-11-30T11:26:28.082883Z"
    }
   },
   "outputs": [
    {
     "data": {
      "text/plain": [
       "<AxesSubplot:xlabel='ST_Slope', ylabel='count'>"
      ]
     },
     "execution_count": 18,
     "metadata": {},
     "output_type": "execute_result"
    },
    {
     "data": {
      "image/png": "[encoded data removed]",
      "text/plain": [
       "<Figure size 1080x360 with 1 Axes>"
      ]
     },
     "metadata": {
      "needs_background": "light"
     },
     "output_type": "display_data"
    }
   ],
   "source": [
    "sns.countplot(x=\"ST_Slope\", hue=\"HeartDisease\", data=df)"
   ]
  },
  {
   "cell_type": "code",
   "execution_count": 19,
   "metadata": {
    "execution": {
     "iopub.execute_input": "2021-11-30T11:26:28.189907Z",
     "iopub.status.busy": "2021-11-30T11:26:28.189907Z",
     "iopub.status.idle": "2021-11-30T11:26:28.479974Z",
     "shell.execute_reply": "2021-11-30T11:26:28.479974Z",
     "shell.execute_reply.started": "2021-11-30T11:26:28.189907Z"
    }
   },
   "outputs": [
    {
     "data": {
      "text/plain": [
       "<AxesSubplot:>"
      ]
     },
     "execution_count": 19,
     "metadata": {},
     "output_type": "execute_result"
    },
    {
     "data": {
      "image/png": "[encoded data removed]",
      "text/plain": [
       "<Figure size 1080x360 with 2 Axes>"
      ]
     },
     "metadata": {
      "needs_background": "light"
     },
     "output_type": "display_data"
    }
   ],
   "source": [
    "sns.heatmap(df.corr(), cmap=\"coolwarm\", annot=True)"
   ]
  },
  {
   "cell_type": "markdown",
   "metadata": {},
   "source": [
    "## Insights and Learnings\n",
    "\n",
    "* We can say that the heart disease feature is balanced\n",
    "* Numerical features are not skewed and close to normal distribution\n",
    "* Older people, especially after 55 years of age, are more likely to have a heart disease than younger people\n",
    "* Men are more likely to have a heart disease than women\n",
    "* People having ASY type of chest pain are almost 6 times more likely to have heart disease than a person with other types of chest pain\n",
    "* As the resting blood pressure increases, so the chance of having a heart disease\n",
    "* Interestingly, cholesterol has a negative correlation with having a heart disease. Many of the values are zero in cholesterol field, it might be some kind of error.\n",
    "* Oldpeak has a positive correlation with the heart disease.\n",
    "* Maximum heart rate has negative correlation with the heart disease.\n",
    "* There is no significant difference between Resting EGC values in terms of heart disease.\n",
    "* A person with flat type of ST slope is more likely to have a heart disease.\n",
    "* Exercise-induced angina with 'Yes' more than 2 times more likley have a heart disaese than exercise-induced angina with 'No'"
   ]
  },
  {
   "cell_type": "markdown",
   "metadata": {
    "execution": {
     "iopub.execute_input": "2021-11-30T11:53:16.558530Z",
     "iopub.status.busy": "2021-11-30T11:53:16.558530Z",
     "iopub.status.idle": "2021-11-30T11:53:16.560533Z",
     "shell.execute_reply": "2021-11-30T11:53:16.560533Z",
     "shell.execute_reply.started": "2021-11-30T11:53:16.558530Z"
    }
   },
   "source": [
    "### It would be great if we have the chance to enrich the data with other measurements such as nutrients, oxygen levels and proteins, and with the dataset of medical history."
   ]
  }
 ],
 "metadata": {
  "kernelspec": {
   "display_name": "Python 3",
   "language": "python",
   "name": "python3"
  },
  "language_info": {
   "codemirror_mode": {
    "name": "ipython",
    "version": 3
   },
   "file_extension": ".py",
   "mimetype": "text/x-python",
   "name": "python",
   "nbconvert_exporter": "python",
   "pygments_lexer": "ipython3",
   "version": "3.6.8"
  }
 },
 "nbformat": 4,
 "nbformat_minor": 4
}
